{
 "cells": [
  {
   "attachments": {},
   "cell_type": "markdown",
   "metadata": {},
   "source": [
    "# In this notebook we are going to conver fundametal concept of the tensorflow.\n",
    "\n",
    "Topics that I going to conver :\n",
    "*    Inroduction to tensors\n",
    "*    Getting information from tesors\n",
    "*    Manipulating tensors\n",
    "*    Tensors and numpy\n",
    "*    Using @tf.function (a way to speed up your python function)"
   ]
  },
  {
   "attachments": {},
   "cell_type": "markdown",
   "metadata": {},
   "source": [
    "### Introduction to tensors"
   ]
  },
  {
   "cell_type": "code",
   "execution_count": 1,
   "metadata": {},
   "outputs": [
    {
     "name": "stdout",
     "output_type": "stream",
     "text": [
      "2.11.1\n"
     ]
    }
   ],
   "source": [
    "# import tensorflow \n",
    "import tensorflow as tf\n",
    "print(tf.__version__)"
   ]
  },
  {
   "cell_type": "code",
   "execution_count": 2,
   "metadata": {},
   "outputs": [
    {
     "data": {
      "text/plain": [
       "<tf.Tensor: shape=(), dtype=int32, numpy=7>"
      ]
     },
     "execution_count": 2,
     "metadata": {},
     "output_type": "execute_result"
    }
   ],
   "source": [
    "# Create tensors with tf.constant()\n",
    "scalar = tf.constant(7)\n",
    "scalar"
   ]
  },
  {
   "cell_type": "code",
   "execution_count": 5,
   "metadata": {},
   "outputs": [
    {
     "name": "stdout",
     "output_type": "stream",
     "text": [
      "Creates a constant tensor from a tensor-like object.\n",
      "\n",
      "  Note: All eager `tf.Tensor` values are immutable (in contrast to\n",
      "  `tf.Variable`). There is nothing especially _constant_ about the value\n",
      "  returned from `tf.constant`. This function is not fundamentally different from\n",
      "  `tf.convert_to_tensor`. The name `tf.constant` comes from the `value` being\n",
      "  embedded in a `Const` node in the `tf.Graph`. `tf.constant` is useful\n",
      "  for asserting that the value can be embedded that way.\n",
      "\n",
      "  If the argument `dtype` is not specified, then the type is inferred from\n",
      "  the type of `value`.\n",
      "\n",
      "  >>> # Constant 1-D Tensor from a python list.\n",
      "  >>> tf.constant([1, 2, 3, 4, 5, 6])\n",
      "  <tf.Tensor: shape=(6,), dtype=int32,\n",
      "      numpy=array([1, 2, 3, 4, 5, 6], dtype=int32)>\n",
      "  >>> # Or a numpy array\n",
      "  >>> a = np.array([[1, 2, 3], [4, 5, 6]])\n",
      "  >>> tf.constant(a)\n",
      "  <tf.Tensor: shape=(2, 3), dtype=int64, numpy=\n",
      "    array([[1, 2, 3],\n",
      "           [4, 5, 6]])>\n",
      "\n",
      "  If `dtype` is specified, the resulting tensor values are cast to the requested\n",
      "  `dtype`.\n",
      "\n",
      "  >>> tf.constant([1, 2, 3, 4, 5, 6], dtype=tf.float64)\n",
      "  <tf.Tensor: shape=(6,), dtype=float64,\n",
      "      numpy=array([1., 2., 3., 4., 5., 6.])>\n",
      "\n",
      "  If `shape` is set, the `value` is reshaped to match. Scalars are expanded to\n",
      "  fill the `shape`:\n",
      "\n",
      "  >>> tf.constant(0, shape=(2, 3))\n",
      "    <tf.Tensor: shape=(2, 3), dtype=int32, numpy=\n",
      "    array([[0, 0, 0],\n",
      "           [0, 0, 0]], dtype=int32)>\n",
      "  >>> tf.constant([1, 2, 3, 4, 5, 6], shape=[2, 3])\n",
      "  <tf.Tensor: shape=(2, 3), dtype=int32, numpy=\n",
      "    array([[1, 2, 3],\n",
      "           [4, 5, 6]], dtype=int32)>\n",
      "\n",
      "  `tf.constant` has no effect if an eager Tensor is passed as the `value`, it\n",
      "  even transmits gradients:\n",
      "\n",
      "  >>> v = tf.Variable([0.0])\n",
      "  >>> with tf.GradientTape() as g:\n",
      "  ...     loss = tf.constant(v + v)\n",
      "  >>> g.gradient(loss, v).numpy()\n",
      "  array([2.], dtype=float32)\n",
      "\n",
      "  But, since `tf.constant` embeds the value in the `tf.Graph` this fails for\n",
      "  symbolic tensors:\n",
      "\n",
      "  >>> with tf.compat.v1.Graph().as_default():\n",
      "  ...   i = tf.compat.v1.placeholder(shape=[None, None], dtype=tf.float32)\n",
      "  ...   t = tf.constant(i)\n",
      "  Traceback (most recent call last):\n",
      "  ...\n",
      "  TypeError: ...\n",
      "\n",
      "  `tf.constant` will create tensors on the current device. Inputs which are\n",
      "  already tensors maintain their placements unchanged.\n",
      "\n",
      "  Related Ops:\n",
      "\n",
      "  * `tf.convert_to_tensor` is similar but:\n",
      "    * It has no `shape` argument.\n",
      "    * Symbolic tensors are allowed to pass through.\n",
      "\n",
      "    >>> with tf.compat.v1.Graph().as_default():\n",
      "    ...   i = tf.compat.v1.placeholder(shape=[None, None], dtype=tf.float32)\n",
      "    ...   t = tf.convert_to_tensor(i)\n",
      "\n",
      "  * `tf.fill`: differs in a few ways:\n",
      "    *   `tf.constant` supports arbitrary constants, not just uniform scalar\n",
      "        Tensors like `tf.fill`.\n",
      "    *   `tf.fill` creates an Op in the graph that is expanded at runtime, so it\n",
      "        can efficiently represent large tensors.\n",
      "    *   Since `tf.fill` does not embed the value, it can produce dynamically\n",
      "        sized outputs.\n",
      "\n",
      "  Args:\n",
      "    value: A constant value (or list) of output type `dtype`.\n",
      "    dtype: The type of the elements of the resulting tensor.\n",
      "    shape: Optional dimensions of resulting tensor.\n",
      "    name: Optional name for the tensor.\n",
      "\n",
      "  Returns:\n",
      "    A Constant Tensor.\n",
      "\n",
      "  Raises:\n",
      "    TypeError: if shape is incorrectly specified or unsupported.\n",
      "    ValueError: if called on a symbolic tensor.\n",
      "  \n"
     ]
    }
   ],
   "source": [
    "# Documentation of the tf.constant function.\n",
    "print(tf.constant.__doc__)"
   ]
  },
  {
   "cell_type": "code",
   "execution_count": 6,
   "metadata": {},
   "outputs": [
    {
     "data": {
      "text/plain": [
       "0"
      ]
     },
     "execution_count": 6,
     "metadata": {},
     "output_type": "execute_result"
    }
   ],
   "source": [
    "# check the number of diemension of a tensor \n",
    "scalar.ndim"
   ]
  },
  {
   "cell_type": "code",
   "execution_count": 7,
   "metadata": {},
   "outputs": [
    {
     "data": {
      "text/plain": [
       "<tf.Tensor: shape=(2,), dtype=int32, numpy=array([10, 10])>"
      ]
     },
     "execution_count": 7,
     "metadata": {},
     "output_type": "execute_result"
    }
   ],
   "source": [
    "# Create a Vector\n",
    "vector = tf.constant([10,10])\n",
    "vector"
   ]
  },
  {
   "cell_type": "code",
   "execution_count": 9,
   "metadata": {},
   "outputs": [
    {
     "data": {
      "text/plain": [
       "1"
      ]
     },
     "execution_count": 9,
     "metadata": {},
     "output_type": "execute_result"
    }
   ],
   "source": [
    "# Check the dimension of the vector\n",
    "vector.ndim"
   ]
  },
  {
   "cell_type": "code",
   "execution_count": 11,
   "metadata": {},
   "outputs": [
    {
     "data": {
      "text/plain": [
       "<tf.Tensor: shape=(3, 3), dtype=int32, numpy=\n",
       "array([[1, 2, 3],\n",
       "       [4, 5, 6],\n",
       "       [7, 8, 9]])>"
      ]
     },
     "execution_count": 11,
     "metadata": {},
     "output_type": "execute_result"
    }
   ],
   "source": [
    "# Create a matrix\n",
    "matrix = tf.constant([[1,2,3],[4,5,6],[7,8,9]])\n",
    "matrix"
   ]
  },
  {
   "cell_type": "code",
   "execution_count": 12,
   "metadata": {},
   "outputs": [
    {
     "data": {
      "text/plain": [
       "2"
      ]
     },
     "execution_count": 12,
     "metadata": {},
     "output_type": "execute_result"
    }
   ],
   "source": [
    "# Check the dimension of the matrix\n",
    "matrix.ndim"
   ]
  },
  {
   "cell_type": "code",
   "execution_count": 15,
   "metadata": {},
   "outputs": [
    {
     "data": {
      "text/plain": [
       "<tf.Tensor: shape=(3, 3), dtype=float32, numpy=\n",
       "array([[1., 2., 3.],\n",
       "       [4., 5., 6.],\n",
       "       [7., 8., 9.]], dtype=float32)>"
      ]
     },
     "execution_count": 15,
     "metadata": {},
     "output_type": "execute_result"
    }
   ],
   "source": [
    "# Create another matrix with different dtype\n",
    "another_matrix = tf.constant([[1,2,3],[4,5,6],[7,8,9]], dtype=tf.float32) # specity the data type with dtype parameter\n",
    "another_matrix"
   ]
  },
  {
   "attachments": {},
   "cell_type": "markdown",
   "metadata": {},
   "source": [
    "* Float32 : 32 bit precision that means it's contain a number in range 10power(-38) to 10power(38) with 7 decimal places.\n",
    "* High number of precision means more details or data able to store.\n",
    "* Higher the precision more extact the number store in your computer."
   ]
  },
  {
   "cell_type": "code",
   "execution_count": 16,
   "metadata": {},
   "outputs": [
    {
     "data": {
      "text/plain": [
       "2"
      ]
     },
     "execution_count": 16,
     "metadata": {},
     "output_type": "execute_result"
    }
   ],
   "source": [
    " # Check the dimension of the another matrix\n",
    "another_matrix.ndim"
   ]
  },
  {
   "cell_type": "code",
   "execution_count": 19,
   "metadata": {},
   "outputs": [],
   "source": [
    "# Let's create a tensor\n",
    "tensor = tf.constant(\n",
    "    [\n",
    "        [[1,2,3],[4,5,6]],   \n",
    "        [[7,8,9],[10,11,12]],\n",
    "    ]\n",
    ")"
   ]
  },
  {
   "cell_type": "code",
   "execution_count": 20,
   "metadata": {},
   "outputs": [
    {
     "data": {
      "text/plain": [
       "3"
      ]
     },
     "execution_count": 20,
     "metadata": {},
     "output_type": "execute_result"
    }
   ],
   "source": [
    "# Check the diemention of tensor\n",
    "tensor.ndim"
   ]
  },
  {
   "attachments": {},
   "cell_type": "markdown",
   "metadata": {},
   "source": [
    "What we've created so far\n",
    "* Scalar : a single number\n",
    "* Vector : a number with direction (e.g. wind speed and direction)\n",
    "* Matrix : a 2D array of numbers\n",
    "* Tensor : a nD array of numbers\n",
    "* Tensor can be anything. 0D : Scalar, 1D : Vector, 2D : Matrix"
   ]
  },
  {
   "attachments": {},
   "cell_type": "markdown",
   "metadata": {},
   "source": [
    "### Create tensors with tf.Variable"
   ]
  },
  {
   "cell_type": "code",
   "execution_count": 25,
   "metadata": {},
   "outputs": [
    {
     "data": {
      "text/plain": [
       "(<tf.Variable 'Variable:0' shape=(2,) dtype=int32, numpy=array([12, 24])>,\n",
       " <tf.Tensor: shape=(2,), dtype=int32, numpy=array([24, 36])>)"
      ]
     },
     "execution_count": 25,
     "metadata": {},
     "output_type": "execute_result"
    }
   ],
   "source": [
    "# create the same tensor with tf.Varaible as above\n",
    "changeable_tensor = tf.Variable([12,24])\n",
    "unchangeable_tesor = tf.constant([24,36]) \n",
    "changeable_tensor, unchangeable_tesor"
   ]
  },
  {
   "cell_type": "code",
   "execution_count": 26,
   "metadata": {},
   "outputs": [
    {
     "data": {
      "text/plain": [
       "<tf.Variable 'UnreadVariable' shape=(2,) dtype=int32, numpy=array([30, 24])>"
      ]
     },
     "execution_count": 26,
     "metadata": {},
     "output_type": "execute_result"
    }
   ],
   "source": [
    "# Let's try to change our changable tensor\n",
    "changeable_tensor[0].assign(30)"
   ]
  },
  {
   "attachments": {},
   "cell_type": "markdown",
   "metadata": {},
   "source": [
    "* Variable : Update the tensor using assign method.\n",
    "* constant : Not able to update once it initialized.\n",
    "* Note : Rarely in practice will you need to decide whether to use `tf.constant` and `tf.Variable` to create tensors, as TensorFlow does this task for you. However, if in doubt, use `tf.constant` and change it later if needed."
   ]
  },
  {
   "attachments": {},
   "cell_type": "markdown",
   "metadata": {},
   "source": [
    "### Create random tensor\n",
    "\n",
    "Random tensor are tensors of some arbitary size which contain random numbers.\n",
    "* At beggining, TensorFlow assign weights as a random tensor."
   ]
  },
  {
   "cell_type": "code",
   "execution_count": 31,
   "metadata": {},
   "outputs": [
    {
     "data": {
      "text/plain": [
       "(<tf.Tensor: shape=(3, 2), dtype=float32, numpy=\n",
       " array([[-0.7565803 , -0.06854702],\n",
       "        [ 0.07595026, -1.2573844 ],\n",
       "        [-0.23193763, -1.8107855 ]], dtype=float32)>,\n",
       " <tf.Tensor: shape=(3, 2), dtype=float32, numpy=\n",
       " array([[-0.7565803 , -0.06854702],\n",
       "        [ 0.07595026, -1.2573844 ],\n",
       "        [-0.23193763, -1.8107855 ]], dtype=float32)>,\n",
       " <tf.Tensor: shape=(3, 2), dtype=bool, numpy=\n",
       " array([[ True,  True],\n",
       "        [ True,  True],\n",
       "        [ True,  True]])>)"
      ]
     },
     "execution_count": 31,
     "metadata": {},
     "output_type": "execute_result"
    }
   ],
   "source": [
    "# Create two random tensors but same\n",
    "random_1 =  tf.random.Generator.from_seed(42) # set seed for reproducibility\n",
    "random_1 = random_1.normal(shape=(3,2))\n",
    "random_2 = tf.random.Generator.from_seed(42) \n",
    "random_2 = random_2.normal(shape=(3,2))\n",
    "\n",
    "# Are they equal\n",
    "random_1, random_2, random_1 == random_2"
   ]
  },
  {
   "cell_type": "code",
   "execution_count": null,
   "metadata": {},
   "outputs": [],
   "source": []
  }
 ],
 "metadata": {
  "kernelspec": {
   "display_name": "venv",
   "language": "python",
   "name": "python3"
  },
  "language_info": {
   "codemirror_mode": {
    "name": "ipython",
    "version": 3
   },
   "file_extension": ".py",
   "mimetype": "text/x-python",
   "name": "python",
   "nbconvert_exporter": "python",
   "pygments_lexer": "ipython3",
   "version": "3.10.5"
  },
  "orig_nbformat": 4
 },
 "nbformat": 4,
 "nbformat_minor": 2
}
